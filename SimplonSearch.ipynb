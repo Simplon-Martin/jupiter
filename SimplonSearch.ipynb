{
 "cells": [
  {
   "cell_type": "raw",
   "metadata": {},
   "source": [
    "1. Proposer une fonction almost(mot, s) qui trouve dans un texte s toute les\n",
    "occurrence d’un mot dont une lettre a pu éventuellement être enlevée.\n",
    "Exemple : si mot vaut « alphonse », une réponse acceptable vaut est\n",
    "« alponse »."
   ]
  },
  {
   "cell_type": "code",
   "execution_count": 12,
   "metadata": {},
   "outputs": [
    {
     "name": "stdout",
     "output_type": "stream",
     "text": [
      "Veuillez entrez un mot à rechercher : trois\n",
      "nombre d'occurence du mot : 2\n"
     ]
    }
   ],
   "source": [
    "from re import *\n",
    "\n",
    "s= \"Les etrois tris, lys trois gros, les troisx roi. ttrois\"\n",
    "\n",
    "def almost(mot, s):\n",
    "    cpt = 0\n",
    "    s = \" \" + sub(\"[.,]\", \"\", s) + \" \"\n",
    "    mot_to_search = \" \" + mot + \" \"\n",
    "    mot_find = findall(mot_to_search, s)\n",
    "    if len(mot_find) > 0:\n",
    "        cpt += len(mot_find)\n",
    "    for i in range(len(mot)):\n",
    "        mot_to_search = sub(mot[i], '', mot)\n",
    "        mot_to_search = \" \" + mot_to_search + \" \"\n",
    "        mot_find = findall(mot_to_search, s)\n",
    "        cpt += len(mot_find)\n",
    "    return cpt\n",
    "\n",
    "mot = input(\"Veuillez entrez un mot à rechercher : \")\n",
    "print(\"nombre d'occurence du mot : \" + str(almost(mot, s)))"
   ]
  },
  {
   "cell_type": "raw",
   "metadata": {},
   "source": [
    "\n",
    "2. Proposez une fonction pluslarge(mot, s) qui trouve dans un texte s toutes les\n",
    "occurrences d’un mot dont une lettre a pu éventuellement être enlevée, ajouté\n",
    "ou remplacé par une autre."
   ]
  },
  {
   "cell_type": "code",
   "execution_count": 17,
   "metadata": {},
   "outputs": [
    {
     "name": "stdout",
     "output_type": "stream",
     "text": [
      "['trois', 'trois', 'troisx', 'etrois', 'tris', 'treis']\n"
     ]
    }
   ],
   "source": [
    "# recupérer 2 mots et decalé d'un mot , jusqu'a la fin \n",
    "s= \"Les etrois tris, lys trois gros, les troisx roi. treis trois\"\n",
    "\n",
    "mot = \"trois\"\n",
    "\n",
    "\n",
    "def plus_large(mot, s):\n",
    "    s = \" \" + sub(\"[.,]\", \"\", s) + \" \"\n",
    "    mot_find = findall(\"\\s(\" + mot + \")\\s\", s)\n",
    "    mot_find +=findall('\\s('+mot+\"[^\\s]\"+\")\\s\",s)\n",
    "    for i in range(len(mot)):\n",
    "        mot_find += findall(\"\\s(\" + mot[:i] + \"[^\" + mot[i] + \"]?\" + mot[i + 1:] + \")\\s\", s)\n",
    "        mot_find += findall(\"\\s(\" + mot[:i] + \"[^\\s]\" + mot[i:] + \")\\s\", s)\n",
    "    return mot_find\n",
    "    \n",
    "print(plus_large(mot, s))"
   ]
  },
  {
   "cell_type": "raw",
   "metadata": {},
   "source": [
    "3. Proposez une fonction score(p, s) qui prend en argument une phrase p et lui\n",
    "attribue un score en fonction de la présence des mots qu’elle contient dans s :\n",
    "cinq points par mot exact, un point par mot approché."
   ]
  },
  {
   "cell_type": "code",
   "execution_count": 50,
   "metadata": {},
   "outputs": [
    {
     "name": "stdout",
     "output_type": "stream",
     "text": [
      "Le score de la recherche est de : 11\n"
     ]
    }
   ],
   "source": [
    "# s = \"Les etrois tris, lys trois gros, les troisx roi. quatre qatre quate\"\n",
    "# p = \"un deux trois quatre\"\n",
    "\n",
    "p = \"Le petit bonhomme en mousse\"\n",
    "s = \"Ce superbe matelas en mousse naturelle.\"\n",
    "\n",
    "def score(p, s):\n",
    "    p_split = p.split()\n",
    "    note = 0\n",
    "    for i in range(len(p_split)):\n",
    "        res = plus_large(p_split[i], s)\n",
    "        #print(res)\n",
    "        for j in range(len(res)):\n",
    "            res[j] = sub(\" \", \"\", res[j])\n",
    "            if res[j] == p_split[i]:\n",
    "                note += 5\n",
    "            else:\n",
    "                note += 1\n",
    "    return note\n",
    "            \n",
    "print(\"Le score de la recherche est de : \" + str(score(p, s)))"
   ]
  },
  {
   "cell_type": "code",
   "execution_count": 55,
   "metadata": {},
   "outputs": [
    {
     "name": "stdout",
     "output_type": "stream",
     "text": [
      "0\n",
      "31\n"
     ]
    }
   ],
   "source": [
    "\n",
    "def pluslarge(mot, s):\n",
    "    z = \" \"+sub(\"[,.]\", \"\", s)+ \" \"\n",
    "    found = findall(\"\\s\"+mot+\"[^\\s]?\\s\", z)\n",
    "    for i in range(len(mot)):\n",
    "        # Je cherche le mot avec une lettre remplacé\n",
    "        motif = \"\\s\"+mot[:i]+\"[^\"+mot[i]+\"]?\"\n",
    "        motif += mot[i+1:]+\"\\s\"\n",
    "        found += findall(motif, \" \"+z)\n",
    "        # Je cherche le mot avec une lettre en plus\n",
    "        motif += \"\\s\"+mot[:i]+\"[^\\s]\"+mot[i:]+\"\\s\"\n",
    "        found += findall(motif, \" \"+z)\n",
    "    return found\n",
    "\n",
    "#print(pluslarge(\"trois\", s))\n",
    "#print(pluslarge(\"les\", s))\n",
    "\n",
    "\n",
    "def score(p, s):\n",
    "    sc = 0\n",
    "    q = \" \"+sub(\"[,.]\",\"\", p)+\" \"\n",
    "    z = \" \" + sub(\"[,.]\",\"\", s)\n",
    "    mot = p.split()\n",
    "    for x in mot:\n",
    "        for i in pluslarge(x, z):\n",
    "            sc += 5 if i in q else 1\n",
    "    for y in range(len(mot)-1):\n",
    "        if \" \" + mot[y] + \" \" + mot[y+1] + \" \" in z:\n",
    "            sc += 20 \n",
    "\n",
    "        \n",
    "            #sc += len(pluslarge(x, s))\n",
    "            #sc += 4*z.count(\" \"+x+\" \")\n",
    "    return sc\n",
    "p=\"Le petit bonhomme en mousse\"\n",
    "t = \"Ce superbe matelas en mousse naturelle\"\n",
    "print(score(\"les trois gros\", s))\n",
    "print(score(p, t))"
   ]
  },
  {
   "cell_type": "raw",
   "metadata": {},
   "source": [
    "4. Modifiez les fonctions précédentes de façons à ce qu’elles donnent un bonus\n",
    "de 20 points si deux mots successifs dans la phrase initial sont également\n",
    "successif dans le texte parcouru (les mots exacts).\n",
    "Exemple : Si on cherche « Le petit bonhomme en mousse » dans « Ce superbe\n",
    "matelas en mousse naturelle »."
   ]
  },
  {
   "cell_type": "code",
   "execution_count": 54,
   "metadata": {},
   "outputs": [
    {
     "name": "stdout",
     "output_type": "stream",
     "text": [
      "['Ce']\n",
      "[]\n",
      "[]\n",
      "['en']\n",
      "['mousse']\n",
      "Le score de la recherche est de : 31\n"
     ]
    }
   ],
   "source": [
    "p = \"Le petit bonhomme en mousse\"\n",
    "s = \"Ce superbe matelas en mousse naturelle.\"\n",
    "s = \" \" + sub(\"[.,]\", \"\", s) + \" \"\n",
    "\n",
    "def plus_large(mot, s):\n",
    "    s = \" \" + sub(\"[.,]\", \"\", s) + \" \"\n",
    "    mot_find = findall(\"\\s(\" + mot + \")\\s\", s)\n",
    "    mot_find += findall('\\s('+mot+\"[^\\s]\"+\")\\s\",s)\n",
    "    for i in range(len(mot)):\n",
    "        mot_find += findall(\"\\s(\" + mot[:i] + \"[^\" + mot[i] + \"]?\" + mot[i + 1:] + \")\\s\", s)\n",
    "        mot_find += findall(\"\\s(\" + mot[:i] + \"[^\\s]\" + mot[i:] + \")\\s\", s)\n",
    "    return mot_find\n",
    "\n",
    "\n",
    "def score(p, s):\n",
    "    p_split = p.split()\n",
    "    note = 0\n",
    "    list_exact = []\n",
    "    str_exact = \"\"\n",
    "    for i in range(len(p_split)):\n",
    "        res = plus_large(p_split[i], s)\n",
    "        for j in range(len(res)):\n",
    "            res[j] = sub(\" \", \"\", res[j])\n",
    "            if res[j] == p_split[i]:\n",
    "                note += 5\n",
    "                list_exact.append(res[j])\n",
    "            else:\n",
    "                note += 1\n",
    "    if len(list_exact) >= 2:\n",
    "        for k in range(len(list_exact)):\n",
    "            str_exact += \" \" + list_exact[k]\n",
    "        str_exact = str_exact + \" \"\n",
    "        test = s.find(str_exact)\n",
    "        if test != -1:\n",
    "            note += 20\n",
    "    return note\n",
    "            \n",
    "print(\"Le score de la recherche est de : \" + str(score(p, s)))\n",
    "    "
   ]
  },
  {
   "cell_type": "code",
   "execution_count": 7,
   "metadata": {},
   "outputs": [],
   "source": [
    "import os\n",
    "dir_list = os.listdir(\"Jeux_de_données/fichiers_txt_pour_recherche\")"
   ]
  },
  {
   "cell_type": "code",
   "execution_count": 82,
   "metadata": {},
   "outputs": [
    {
     "name": "stdout",
     "output_type": "stream",
     "text": [
      "Pandas.txt : 67\n",
      "Matplotlib.txt : 65\n",
      "Seaborn.txt : 38\n",
      "Numpy.txt : 31\n"
     ]
    }
   ],
   "source": [
    "\n",
    "def pluslarge(mot, s):\n",
    "    z = \" \"+sub(\"[,.]\", \"\", s)+ \" \"\n",
    "    found = findall(\"\\s\"+mot+\"[^\\s]?\\s\", z)\n",
    "    for i in range(len(mot)):\n",
    "        # Je cherche le mot avec une lettre remplacÃ©\n",
    "        motif = \"\\s\"+mot[:i]+\"[^\"+mot[i]+\"]?\"\n",
    "        motif += mot[i+1:]+\"\\s\"\n",
    "        found += findall(motif, \" \"+z)\n",
    "        # Je cherche le mot avec une lettre en plus\n",
    "        motif += \"\\s\"+mot[:i]+\"[^\\s]\"+mot[i:]+\"\\s\"\n",
    "        found += findall(motif, \" \"+z)\n",
    "    return found\n",
    "\n",
    "# 3.\n",
    "\n",
    "def score(p, s):\n",
    "    sc = 0\n",
    "    q = \" \"+sub(\"[,.]\",\"\", p)+\" \"\n",
    "    z = \" \" + sub(\"[,.]\",\"\", s)\n",
    "    for x in p.split():\n",
    "        sc += len(pluslarge(x, s))\n",
    "        sc += 4*z.count(\" \"+x+\" \")\n",
    "    return sc\n",
    "\n",
    "def score2(p, s):\n",
    "    s = s.lower()\n",
    "    p = p.lower()\n",
    "    sc = 0\n",
    "    q = \" \"+sub(\"[,.]\", \"\", p)+ \" \"\n",
    "    z = \" \"+sub(\"[,.]\", \"\", s)+ \" \"\n",
    "    mots = p.split()\n",
    "    for x in mots:\n",
    "        for y in pluslarge(x, z):\n",
    "            sc += 5 if y in q else 1\n",
    "    for i in range(len(mots)-1):\n",
    "        if \" \"+mots[i]+\" \"+mots[i+1]+\" \" in z :\n",
    "            sc += 20\n",
    "    return sc\n",
    "\n",
    "dir_list = os.listdir(\"Jeux_de_données/fichiers_txt_pour_recherche\")\n",
    "res_dict = {}\n",
    "\n",
    "for i in dir_list:\n",
    "    file = open(f'Jeux_de_données/fichiers_txt_pour_recherche/{i}', 'r', encoding=\"utf-8\")\n",
    "    res_dict[i] = score2('analyse et visualisation', file.read())\n",
    "    \n",
    "tuples = sorted(res_dict.items(), key=lambda item: item[1], reverse=True)\n",
    "\n",
    "for i, j in tuples :\n",
    "    print(i + \" : \" + str(j))"
   ]
  }
 ],
 "metadata": {
  "kernelspec": {
   "display_name": "Python 3",
   "language": "python",
   "name": "python3"
  },
  "language_info": {
   "codemirror_mode": {
    "name": "ipython",
    "version": 3
   },
   "file_extension": ".py",
   "mimetype": "text/x-python",
   "name": "python",
   "nbconvert_exporter": "python",
   "pygments_lexer": "ipython3",
   "version": "3.8.5"
  }
 },
 "nbformat": 4,
 "nbformat_minor": 4
}
