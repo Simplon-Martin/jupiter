{
 "cells": [
  {
   "cell_type": "code",
   "execution_count": 1,
   "metadata": {},
   "outputs": [
    {
     "name": "stdout",
     "output_type": "stream",
     "text": [
      "interieur de test 3\n",
      "apres test 3\n"
     ]
    }
   ],
   "source": [
    "import pandas as pd\n",
    "# df = pd.read_csv(\"Jeux_de_données/.csv\")\n",
    "\n",
    "a = 2\n",
    "\n",
    "def test():\n",
    "    global a\n",
    "    a = 3\n",
    "    print(\"interieur de test\", a)\n",
    "    \n",
    "test()\n",
    "print(\"apres test\", a)"
   ]
  },
  {
   "cell_type": "code",
   "execution_count": 2,
   "metadata": {},
   "outputs": [
    {
     "name": "stdout",
     "output_type": "stream",
     "text": [
      "je m'appele pour x : 10\n",
      "je m'appele pour x : 5.0\n",
      "je m'appele pour x : 2.5\n",
      "je ne m'appelle pas pour x : 1.25\n"
     ]
    },
    {
     "data": {
      "text/plain": [
       "4"
      ]
     },
     "execution_count": 2,
     "metadata": {},
     "output_type": "execute_result"
    }
   ],
   "source": [
    "def recursive(x):\n",
    "    if x / 2 < 1:\n",
    "        print(\"je ne m'appelle pas pour x :\", x)\n",
    "        return 1\n",
    "    else:\n",
    "        print(\"je m'appele pour x :\", x)\n",
    "        return recursive(x / 2) + 1\n",
    "        \n",
    "recursive(10)"
   ]
  },
  {
   "cell_type": "code",
   "execution_count": 3,
   "metadata": {},
   "outputs": [
    {
     "name": "stdout",
     "output_type": "stream",
     "text": [
      "D u   p\n",
      "['Du p', 'sé faisont table r', 'e']\n",
      "['Du', 'passé', 'faisont', 'table', 'rase']\n"
     ]
    }
   ],
   "source": [
    "s1 = \"Du passé faisont table rase\"\n",
    "l1 = [i for i in s1]\n",
    "print(l1[0], l1[1], l1[2], l1[3])\n",
    "l2 = s1.split(\"as\")\n",
    "print(l2)\n",
    "l3 = s1.split()\n",
    "print(l3)"
   ]
  },
  {
   "cell_type": "code",
   "execution_count": 4,
   "metadata": {},
   "outputs": [
    {
     "name": "stdout",
     "output_type": "stream",
     "text": [
      "Hello W\n",
      "Du passé faisont table rase\n"
     ]
    }
   ],
   "source": [
    "l1 = ['H', 'e', 'l', 'l', 'o', ' ', 'W']\n",
    "l2 = ['Du', 'passé', 'faisont', 'table', 'rase']\n",
    "s1 = \"\".join(l1)\n",
    "s2 = \" \".join(l2)\n",
    "print(s1)\n",
    "print(s2)"
   ]
  },
  {
   "cell_type": "code",
   "execution_count": 5,
   "metadata": {},
   "outputs": [
    {
     "name": "stdout",
     "output_type": "stream",
     "text": [
      "faisons TABLE\n"
     ]
    }
   ],
   "source": [
    "s1 = \"Faisons table rase\"\n",
    "s2 = s1[:8].lower() + s1[8:13].upper()\n",
    "print(s2)"
   ]
  },
  {
   "cell_type": "code",
   "execution_count": 6,
   "metadata": {},
   "outputs": [
    {
     "name": "stdout",
     "output_type": "stream",
     "text": [
      "3\n",
      "35\n",
      "-1\n"
     ]
    }
   ],
   "source": [
    "s1 = \"Ce texte contient deux fois le mot texte\"\n",
    "print(s1.find('texte', 0))\n",
    "print(s1.find('texte', 4))\n",
    "print(s1.find('texte', 36))"
   ]
  },
  {
   "cell_type": "code",
   "execution_count": 7,
   "metadata": {},
   "outputs": [
    {
     "name": "stdout",
     "output_type": "stream",
     "text": [
      "3\n",
      "35\n",
      "-1\n"
     ]
    }
   ],
   "source": [
    "s1 = \"Ce texte contient deux fois le mot texte\"\n",
    "max = 0\n",
    "while max > -1:\n",
    "    max = s1.find('texte', max+1)\n",
    "    print(max)"
   ]
  },
  {
   "cell_type": "code",
   "execution_count": 8,
   "metadata": {},
   "outputs": [
    {
     "name": "stdout",
     "output_type": "stream",
     "text": [
      "i ==  20\n",
      "s2 ==  Le prix est de $deux \n",
      "j ==  16\n",
      "Le prix est de $2.15 \n"
     ]
    }
   ],
   "source": [
    "s1 = \"Le prix est de deux euros\"\n",
    "if 'euros' in s1:\n",
    "    i = s1.index('euros')\n",
    "    print(\"i == \", i)\n",
    "    s2 = s1[:i-5] + '$' + s1[i-5:i]\n",
    "    print(\"s2 == \", s2)\n",
    "    j = s2.find(\"deux\")\n",
    "    print(\"j == \", j)\n",
    "    s3 = s2[:j] + '2.15' + s2[j+4:]\n",
    "    print(s3)"
   ]
  },
  {
   "cell_type": "code",
   "execution_count": 9,
   "metadata": {},
   "outputs": [
    {
     "name": "stdout",
     "output_type": "stream",
     "text": [
      "Le prix est de $2.15\n"
     ]
    }
   ],
   "source": [
    "s1 = \"Le prix est de deux euros\"\n",
    "s2 = s1.replace('deux euros', '$2.15')\n",
    "print(s2)"
   ]
  },
  {
   "cell_type": "code",
   "execution_count": 10,
   "metadata": {},
   "outputs": [
    {
     "name": "stdout",
     "output_type": "stream",
     "text": [
      "nombre\n",
      "mot\n",
      "?\n"
     ]
    }
   ],
   "source": [
    "s = \"300 seulement ?\"\n",
    "l = s.split()\n",
    "for mot in l:\n",
    "    if mot.isalpha():\n",
    "        print('mot')\n",
    "    if mot.isnumeric():\n",
    "        print('nombre')\n",
    "    if not mot.isalnum():\n",
    "        print('?')\n",
    "        "
   ]
  },
  {
   "cell_type": "code",
   "execution_count": 11,
   "metadata": {},
   "outputs": [
    {
     "name": "stdout",
     "output_type": "stream",
     "text": [
      "['Le', 'Argentine']\n",
      "['PIB', 'Argentine', 'baisse', 'depuis']\n"
     ]
    }
   ],
   "source": [
    "from re import findall\n",
    "s = \"Le PIB de l'Argentine baisse depuis 3 ans\"\n",
    "l1 = findall('[A-Z][a-z]+', s)\n",
    "l2 = findall('[a-zA-Z][a-z]*[iI][a-zA-Z]*', s)\n",
    "print(l1)\n",
    "print(l2)"
   ]
  },
  {
   "cell_type": "code",
   "execution_count": 12,
   "metadata": {},
   "outputs": [
    {
     "name": "stdout",
     "output_type": "stream",
     "text": [
      "['0678828383', '09.37.56.78.43', '03 11 45 34 67', '03.11 23 2038']\n"
     ]
    }
   ],
   "source": [
    "motif = '0[1-9](?:[\\s\\.]?[0-9]{2}){4}'\n",
    "n1 = \"0678828383\"\n",
    "n2 = \"09.37.56.78.43\"\n",
    "n3 = \"03 11 45 34 67,\"\n",
    "n4 = \"03 45 56 66,\"\n",
    "n5 = \"03.11 23 2038,\"\n",
    "n6 = \"03-20-23-23-38\"\n",
    "s = n1+n2+n3+n4+n5+n6\n",
    "print(findall(motif, s))"
   ]
  },
  {
   "cell_type": "code",
   "execution_count": 13,
   "metadata": {},
   "outputs": [
    {
     "name": "stdout",
     "output_type": "stream",
     "text": [
      "Un texte  du javascript dedans \n",
      "Un texte HTML avec des balise et même var i = 5;  du javascript dedans \n",
      "Un texte HTML avec des balise et même var i = 5;  du javascript dedans \n"
     ]
    }
   ],
   "source": [
    "from re import sub\n",
    "s = 'Un texte <strong>HTML</strong> avec des balise'\n",
    "s += ' et même<script type=\"text/javascript\">'\n",
    "s += ' var i = 5; </script> du javascript dedans '\n",
    "s1 = sub('<.*>', '', s)\n",
    "s2 = sub('<[a-z\\\\/\"=\\s]*>', '', s)\n",
    "s3 = sub('<[^>]*>', '', s)\n",
    "print(s1)\n",
    "print(s2)\n",
    "print(s3)"
   ]
  },
  {
   "cell_type": "code",
   "execution_count": 14,
   "metadata": {},
   "outputs": [
    {
     "name": "stdout",
     "output_type": "stream",
     "text": [
      "Ceci\n",
      "Chaine\n",
      "Caractère\n"
     ]
    }
   ],
   "source": [
    "def hascap(s):\n",
    "    l = s.split()\n",
    "    for i in l:\n",
    "        mot = sub('[^A-Z]','', i)\n",
    "        if mot != \"\":\n",
    "            if 65 <= ord(mot[0]) <= 90:\n",
    "                print(i)\n",
    "                \n",
    "s1 = \"Ceci est une Chaine de Caractère\"\n",
    "hascap(s1)"
   ]
  },
  {
   "cell_type": "code",
   "execution_count": 20,
   "metadata": {},
   "outputs": [
    {
     "data": {
      "text/plain": [
       "'Le prix est de 20.0 euros et 48.0 euros et 60.0 euros'"
      ]
     },
     "execution_count": 20,
     "metadata": {},
     "output_type": "execute_result"
    }
   ],
   "source": [
    "s2 = \"Le prix est de 10 euros et 24 euros et 30 euros\"\n",
    "\n",
    "def inflation(s):\n",
    "    l = s.split()\n",
    "    for counter, value in enumerate(l):\n",
    "        if value.isnumeric() :\n",
    "            fact = float(value)* 2\n",
    "            s = s.replace(value, str(fact))   \n",
    "    return s\n",
    "\n",
    "inflation(s2)"
   ]
  },
  {
   "cell_type": "code",
   "execution_count": 21,
   "metadata": {},
   "outputs": [
    {
     "name": "stdout",
     "output_type": "stream",
     "text": [
      "Le prix est de 54 euros\n"
     ]
    }
   ],
   "source": [
    "def inflation(s):\n",
    "    mots = s.split()\n",
    "    for i, m in enumerate(mots):\n",
    "        if m.isnumeric():\n",
    "            mots[i]  = str(2*int(m))\n",
    "    return \" \".join(mots)\n",
    "print(inflation(\"Le prix est de 27 euros\"))"
   ]
  },
  {
   "cell_type": "code",
   "execution_count": 16,
   "metadata": {},
   "outputs": [
    {
     "data": {
      "text/plain": [
       "['Onze ans déjà que cela ',\n",
       " 'passe vite Vous vous ',\n",
       " 'étiez servis simplement ',\n",
       " 'de vos armes la mort ',\n",
       " 'n‘éblouit pas les yeux ',\n",
       " 'des partisans Vous aviez ',\n",
       " 'vos portraits sur les ',\n",
       " 'murs de nos villes ']"
      ]
     },
     "execution_count": 16,
     "metadata": {},
     "output_type": "execute_result"
    }
   ],
   "source": [
    "s3 = \"Onze ans déjà que cela passe vite Vous vous étiez servis simplement de vos armes la mort n‘éblouit pas les yeux des partisans Vous aviez vos portraits sur les murs de nos villes \"\n",
    "\n",
    "def lignes(s):\n",
    "    l = findall('[^.*]{0,24}[ $]', s)\n",
    "    return l\n",
    "\n",
    "lignes(s3)"
   ]
  },
  {
   "cell_type": "code",
   "execution_count": 22,
   "metadata": {},
   "outputs": [
    {
     "name": "stdout",
     "output_type": "stream",
     "text": [
      "['Onze ans déjà que cela ', 'passe vite Vous vous ', 'étiez servis ', 'simplement de vos ', 'armes la mort ', \"n'eblouit pas les yeux \", 'des partisants Vous ', 'aviez vos portraits ', 'sur les murs de nos ', 'villes ']\n"
     ]
    }
   ],
   "source": [
    "def lignes(s):\n",
    "    mots = s.split()\n",
    "    lignes  = ['']\n",
    "    for m in mots:\n",
    "        m += \" \"\n",
    "        if len(lignes[-1])+len(m)<24:\n",
    "            lignes[-1] += (m)\n",
    "        else:\n",
    "            lignes.append(m)\n",
    "    return lignes\n",
    "s = \"Onze ans déjà que cela passe vite Vous \"\n",
    "s += \"vous étiez servis simplement de vos armes la \"\n",
    "s += \"mort n'eblouit pas les yeux des partisants Vous \"\n",
    "s += \"aviez vos portraits sur les murs de nos villes\"\n",
    "print(lignes(s))"
   ]
  },
  {
   "cell_type": "code",
   "execution_count": 24,
   "metadata": {},
   "outputs": [
    {
     "data": {
      "text/plain": [
       "['2', '6.50', '-3', '-5.654768768675']"
      ]
     },
     "execution_count": 24,
     "metadata": {},
     "output_type": "execute_result"
    }
   ],
   "source": [
    "s4 = \"Les 2 maquereaux valent 6.50 euros c'est -3 euros de moins que la concurence (-5.654768768675) !\"\n",
    "\n",
    "def nb_list(s):\n",
    "    l = findall('[-]*[0-9]?(?:[\\.0-9]+)', s)\n",
    "    return l\n",
    "\n",
    "nb_list(s4)"
   ]
  },
  {
   "cell_type": "code",
   "execution_count": 18,
   "metadata": {},
   "outputs": [
    {
     "data": {
      "text/plain": [
       "\"Les 2 maquereaux valent 6 euros c'est -3 euros de moins que la concurence (-5) !\""
      ]
     },
     "execution_count": 18,
     "metadata": {},
     "output_type": "execute_result"
    }
   ],
   "source": [
    "import re\n",
    "\n",
    "def arrondis(s):\n",
    "    regex = re.compile(\"([0-9]*)\\.([0-9]+)\")\n",
    "    l = regex.sub('\\\\1', s)\n",
    "    return l\n",
    "\n",
    "arrondis(s4)"
   ]
  }
 ],
 "metadata": {
  "kernelspec": {
   "display_name": "Python 3",
   "language": "python",
   "name": "python3"
  },
  "language_info": {
   "codemirror_mode": {
    "name": "ipython",
    "version": 3
   },
   "file_extension": ".py",
   "mimetype": "text/x-python",
   "name": "python",
   "nbconvert_exporter": "python",
   "pygments_lexer": "ipython3",
   "version": "3.8.5"
  }
 },
 "nbformat": 4,
 "nbformat_minor": 4
}
