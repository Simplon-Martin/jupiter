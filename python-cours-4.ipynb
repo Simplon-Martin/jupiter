{
 "cells": [
  {
   "cell_type": "code",
   "execution_count": 1,
   "metadata": {},
   "outputs": [
    {
     "name": "stdout",
     "output_type": "stream",
     "text": [
      "Veuillez saisir une lettre : a\n",
      "#  A #  #  #  \n",
      "\n",
      "Il vous reste encore 5 essai(s) !\n",
      "Veuillez saisir une lettre : e\n",
      "#  A #  #  #  \n",
      "\n",
      "Il vous reste encore 4 essai(s) !\n",
      "Veuillez saisir une lettre : o\n",
      "#  A #  O #  \n",
      "\n",
      "Il vous reste encore 3 essai(s) !\n",
      "Veuillez saisir une lettre : f\n",
      "#  A #  O #  \n",
      "\n",
      "Il vous reste encore 2 essai(s) !\n",
      "Veuillez saisir une lettre : j\n",
      "J A #  O #  \n",
      "\n",
      "Il vous reste encore 1 essai(s) !\n",
      "Veuillez saisir une lettre : p\n",
      "J A P O #  \n",
      "\n",
      "Il vous reste encore 0 essai(s) !\n",
      "Devinez le mot: japon\n",
      "GAGNÉ\n"
     ]
    }
   ],
   "source": [
    "nb_chance = 6\n",
    "mot_mystere = \"JAPON\"\n",
    "list_index_lettre = {}\n",
    "\n",
    "for i in range(0, len(mot_mystere)):\n",
    "    list_index_lettre[mot_mystere[i]] = \"# \"\n",
    "\n",
    "while nb_chance != 0:\n",
    "    lettre = input(\"Veuillez saisir une lettre : \")\n",
    "    lettre = lettre.upper()\n",
    "    for cle, valeur in list_index_lettre.items():\n",
    "        if lettre == cle :\n",
    "            list_index_lettre[cle] = lettre\n",
    "    nb_chance -= 1\n",
    "    for cle, valeur in list_index_lettre.items():\n",
    "        print(valeur, end=\" \")\n",
    "    print(\"\\n\")\n",
    "    print(f\"Il vous reste encore {nb_chance} essai(s) !\")\n",
    "        \n",
    "guessed = input(\"Devinez le mot: \")\n",
    "guessed = guessed.upper()\n",
    "if guessed == mot_mystere: \n",
    "    print(\"GAGNÉ\")\n",
    "else:\n",
    "    print(\"PERDU\")\n"
   ]
  },
  {
   "cell_type": "code",
   "execution_count": null,
   "metadata": {},
   "outputs": [],
   "source": []
  }
 ],
 "metadata": {
  "kernelspec": {
   "display_name": "Python 3",
   "language": "python",
   "name": "python3"
  },
  "language_info": {
   "codemirror_mode": {
    "name": "ipython",
    "version": 3
   },
   "file_extension": ".py",
   "mimetype": "text/x-python",
   "name": "python",
   "nbconvert_exporter": "python",
   "pygments_lexer": "ipython3",
   "version": "3.8.5"
  }
 },
 "nbformat": 4,
 "nbformat_minor": 4
}
