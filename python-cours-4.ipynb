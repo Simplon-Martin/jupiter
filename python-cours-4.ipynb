{
 "cells": [
  {
   "cell_type": "code",
   "execution_count": null,
   "metadata": {},
   "outputs": [
    {
     "name": "stdout",
     "output_type": "stream",
     "text": [
      "Jeu du pendu !!\n",
      "Veuillez saisir une lettre : a\n",
      "# A # # # nombre de coup restant : 5\n",
      "Veuillez saisir une lettre : p\n",
      "# # P # # nombre de coup restant : 4\n",
      "Veuillez saisir une lettre : j\n",
      "J # # # # nombre de coup restant : 3\n",
      "Veuillez saisir une lettre : o\n",
      "# # # O # nombre de coup restant : 2\n",
      "Veuillez saisir une lettre : n\n",
      "# # # # N nombre de coup restant : 1\n",
      "Veuillez saisir une lettre : v\n",
      "# # # # # nombre de coup restant : 0\n"
     ]
    }
   ],
   "source": [
    "nb_chance = 6\n",
    "mot_mystere = \"japon\"\n",
    "chaine = \"\"\n",
    "print(\"Jeu du pendu !!\")\n",
    "while nb_chance != 0:\n",
    "    # print(\"Mot mystère : \")\n",
    "    lettre = input(\"Veuillez saisir une lettre : \")\n",
    "    nb_chance -= 1\n",
    "    for j in range(0, len(mot_mystere)):\n",
    "        if lettre.upper() == mot_mystere[j].upper():\n",
    "            print(mot_mystere[j].upper(), end=\" \")\n",
    "            # print(f\"la lettre est la position : {j+1}\")\n",
    "        else :    \n",
    "            print(\"#\", end=\" \")   \n",
    "    print(f\"nombre de coup restant : {nb_chance}\")\n",
    "\n",
    "res_user = input(\"Veuillez faire une proposition de  mot : \")\n",
    "\n",
    "if res_user == mot_mystere:\n",
    "    print(\"GAGNE !\")\n",
    "else:\n",
    "    print(\"PERDU !\")\n",
    "    "
   ]
  },
  {
   "cell_type": "code",
   "execution_count": 46,
   "metadata": {},
   "outputs": [
    {
     "name": "stdout",
     "output_type": "stream",
     "text": [
      "0\n"
     ]
    },
    {
     "ename": "KeyboardInterrupt",
     "evalue": "Interrupted by user",
     "output_type": "error",
     "traceback": [
      "\u001b[0;31m---------------------------------------------------------------------------\u001b[0m",
      "\u001b[0;31mKeyboardInterrupt\u001b[0m                         Traceback (most recent call last)",
      "\u001b[0;32m<ipython-input-46-298f9d5ca4b0>\u001b[0m in \u001b[0;36m<module>\u001b[0;34m\u001b[0m\n\u001b[1;32m      5\u001b[0m \u001b[0;32mwhile\u001b[0m \u001b[0mnb_chance\u001b[0m \u001b[0;34m!=\u001b[0m \u001b[0;36m0\u001b[0m\u001b[0;34m:\u001b[0m\u001b[0;34m\u001b[0m\u001b[0;34m\u001b[0m\u001b[0m\n\u001b[1;32m      6\u001b[0m     \u001b[0mprint\u001b[0m\u001b[0;34m(\u001b[0m\u001b[0mlen\u001b[0m\u001b[0;34m(\u001b[0m\u001b[0mlist_index_lettre\u001b[0m\u001b[0;34m)\u001b[0m\u001b[0;34m)\u001b[0m\u001b[0;34m\u001b[0m\u001b[0;34m\u001b[0m\u001b[0m\n\u001b[0;32m----> 7\u001b[0;31m     \u001b[0mlettre\u001b[0m \u001b[0;34m=\u001b[0m \u001b[0minput\u001b[0m\u001b[0;34m(\u001b[0m\u001b[0;34m\"Veuillez saisir une lettre : \"\u001b[0m\u001b[0;34m)\u001b[0m\u001b[0;34m\u001b[0m\u001b[0;34m\u001b[0m\u001b[0m\n\u001b[0m\u001b[1;32m      8\u001b[0m     \u001b[0mnb_chance\u001b[0m \u001b[0;34m-=\u001b[0m \u001b[0;36m1\u001b[0m\u001b[0;34m\u001b[0m\u001b[0;34m\u001b[0m\u001b[0m\n\u001b[1;32m      9\u001b[0m     \u001b[0mnb_gauche\u001b[0m \u001b[0;34m=\u001b[0m \u001b[0;36m0\u001b[0m\u001b[0;34m\u001b[0m\u001b[0;34m\u001b[0m\u001b[0m\n",
      "\u001b[0;32m~/anaconda3/lib/python3.8/site-packages/ipykernel/kernelbase.py\u001b[0m in \u001b[0;36mraw_input\u001b[0;34m(self, prompt)\u001b[0m\n\u001b[1;32m    858\u001b[0m                 \u001b[0;34m\"raw_input was called, but this frontend does not support input requests.\"\u001b[0m\u001b[0;34m\u001b[0m\u001b[0;34m\u001b[0m\u001b[0m\n\u001b[1;32m    859\u001b[0m             )\n\u001b[0;32m--> 860\u001b[0;31m         return self._input_request(str(prompt),\n\u001b[0m\u001b[1;32m    861\u001b[0m             \u001b[0mself\u001b[0m\u001b[0;34m.\u001b[0m\u001b[0m_parent_ident\u001b[0m\u001b[0;34m,\u001b[0m\u001b[0;34m\u001b[0m\u001b[0;34m\u001b[0m\u001b[0m\n\u001b[1;32m    862\u001b[0m             \u001b[0mself\u001b[0m\u001b[0;34m.\u001b[0m\u001b[0m_parent_header\u001b[0m\u001b[0;34m,\u001b[0m\u001b[0;34m\u001b[0m\u001b[0;34m\u001b[0m\u001b[0m\n",
      "\u001b[0;32m~/anaconda3/lib/python3.8/site-packages/ipykernel/kernelbase.py\u001b[0m in \u001b[0;36m_input_request\u001b[0;34m(self, prompt, ident, parent, password)\u001b[0m\n\u001b[1;32m    902\u001b[0m             \u001b[0;32mexcept\u001b[0m \u001b[0mKeyboardInterrupt\u001b[0m\u001b[0;34m:\u001b[0m\u001b[0;34m\u001b[0m\u001b[0;34m\u001b[0m\u001b[0m\n\u001b[1;32m    903\u001b[0m                 \u001b[0;31m# re-raise KeyboardInterrupt, to truncate traceback\u001b[0m\u001b[0;34m\u001b[0m\u001b[0;34m\u001b[0m\u001b[0;34m\u001b[0m\u001b[0m\n\u001b[0;32m--> 904\u001b[0;31m                 \u001b[0;32mraise\u001b[0m \u001b[0mKeyboardInterrupt\u001b[0m\u001b[0;34m(\u001b[0m\u001b[0;34m\"Interrupted by user\"\u001b[0m\u001b[0;34m)\u001b[0m \u001b[0;32mfrom\u001b[0m \u001b[0;32mNone\u001b[0m\u001b[0;34m\u001b[0m\u001b[0;34m\u001b[0m\u001b[0m\n\u001b[0m\u001b[1;32m    905\u001b[0m             \u001b[0;32mexcept\u001b[0m \u001b[0mException\u001b[0m \u001b[0;32mas\u001b[0m \u001b[0me\u001b[0m\u001b[0;34m:\u001b[0m\u001b[0;34m\u001b[0m\u001b[0;34m\u001b[0m\u001b[0m\n\u001b[1;32m    906\u001b[0m                 \u001b[0mself\u001b[0m\u001b[0;34m.\u001b[0m\u001b[0mlog\u001b[0m\u001b[0;34m.\u001b[0m\u001b[0mwarning\u001b[0m\u001b[0;34m(\u001b[0m\u001b[0;34m\"Invalid Message:\"\u001b[0m\u001b[0;34m,\u001b[0m \u001b[0mexc_info\u001b[0m\u001b[0;34m=\u001b[0m\u001b[0;32mTrue\u001b[0m\u001b[0;34m)\u001b[0m\u001b[0;34m\u001b[0m\u001b[0;34m\u001b[0m\u001b[0m\n",
      "\u001b[0;31mKeyboardInterrupt\u001b[0m: Interrupted by user"
     ]
    }
   ],
   "source": [
    "nb_chance = 6\n",
    "mot_mystere = \"japon\"\n",
    "list_index_lettre = []\n",
    "\n",
    "while nb_chance != 0:\n",
    "    print(len(list_index_lettre))\n",
    "    lettre = input(\"Veuillez saisir une lettre : \")\n",
    "    nb_chance -= 1\n",
    "    nb_gauche = 0\n",
    "    nb_droite = 0\n",
    "    if mot_mystere.find(lettre) < 0:\n",
    "        print(\"# \" * len(mot_mystere))\n",
    "    else:\n",
    "        current = mot_mystere.find(lettre)\n",
    "        \n",
    "        for gauche in range(0, current):\n",
    "            nb_gauche += 1\n",
    "        \n",
    "        for droite in range((current+1), len(mot_mystere)):\n",
    "            nb_droite += 1\n",
    "        \n",
    "        print(\"# \" * nb_gauche + mot_mystere[current] + \" #\" * nb_droite)\n",
    "\n",
    "        "
   ]
  },
  {
   "cell_type": "code",
   "execution_count": 47,
   "metadata": {},
   "outputs": [
    {
     "ename": "IndentationError",
     "evalue": "expected an indented block (<ipython-input-47-288ebd91038c>, line 29)",
     "output_type": "error",
     "traceback": [
      "\u001b[0;36m  File \u001b[0;32m\"<ipython-input-47-288ebd91038c>\"\u001b[0;36m, line \u001b[0;32m29\u001b[0m\n\u001b[0;31m    elif mot_mystere.find(lettre) < 0 and len(list_index_lettre) != 0:\u001b[0m\n\u001b[0m    ^\u001b[0m\n\u001b[0;31mIndentationError\u001b[0m\u001b[0;31m:\u001b[0m expected an indented block\n"
     ]
    }
   ],
   "source": [
    "nb_chance = 6\n",
    "mot_mystere = \"japon\"\n",
    "list_index_lettre = []\n",
    "\n",
    "while nb_chance != 0:\n",
    "    print(len(list_index_lettre))\n",
    "    lettre = input(\"Veuillez saisir une lettre : \")\n",
    "    nb_chance -= 1\n",
    "    nb_gauche = 0\n",
    "    nb_droite = 0\n",
    "    if mot_mystere.find(lettre) >= 0 and len(list_index_lettre) == 0:\n",
    "        print(\"# \" * len(mot_mystere))\n",
    "        \n",
    "        current = mot_mystere.find(lettre)\n",
    "        \n",
    "        for gauche in range(0, current):\n",
    "            nb_gauche += 1\n",
    "        \n",
    "        for droite in range((current+1), len(mot_mystere)):\n",
    "            nb_droite += 1\n",
    "            \n",
    "        list_index_lettre.append(current)\n",
    "        print(list_index_lettre)\n",
    "        print(\"# \" * nb_gauche + mot_mystere[current] + \" #\" * nb_droite)\n",
    "        \n",
    "    elif mot_mystere.find(lettre) >= 0 and len(list_index_lettre) > 0:\n",
    "        \n",
    "        \n",
    "    elif mot_mystere.find(lettre) < 0 and len(list_index_lettre) != 0:\n",
    "        current = mot_mystere.find(lettre)\n",
    "        \n",
    "        for gauche in range(0, current):\n",
    "            nb_gauche += 1\n",
    "        \n",
    "        for droite in range((current+1), len(mot_mystere)):\n",
    "            nb_droite += 1\n",
    "        \n",
    "        print(\"# \" * nb_gauche + mot_mystere[current] + \" #\" * nb_droite)"
   ]
  },
  {
   "cell_type": "code",
   "execution_count": null,
   "metadata": {},
   "outputs": [
    {
     "name": "stdout",
     "output_type": "stream",
     "text": [
      "Veuillez saisir une lettre : A\n",
      "#  A #  #  \n",
      "\n",
      "Il vous reste encore 5 essai(s) !\n"
     ]
    }
   ],
   "source": [
    "nb_chance = 6\n",
    "mot_mystere = \"JAPON\"\n",
    "list_index_lettre = {}\n",
    "\n",
    "for i in range(0, len(mot_mystere)):\n",
    "    list_index_lettre[mot_mystere[i]] = \"# \"\n",
    "\n",
    "while nb_chance != 0:\n",
    "    lettre = input(\"Veuillez saisir une lettre : \")\n",
    "    lettre = lettre.upper()\n",
    "    for cle, valeur in list_index_lettre.items():\n",
    "        if lettre == cle :\n",
    "            list_index_lettre[cle] = lettre\n",
    "    nb_chance -= 1\n",
    "    for cle, valeur in list_index_lettre.items():\n",
    "        print(valeur, end=\" \")\n",
    "    print(\"\\n\")\n",
    "    print(f\"Il vous reste encore {nb_chance} essai(s) !\")\n",
    "        \n",
    "guessed = input(\"Devinez le mot: \")\n",
    "guessed = guessed.upper()\n",
    "if guessed == mot_mystere: \n",
    "    print(\"GAGNÉ\")\n",
    "else:\n",
    "    print(\"PERDU\")\n"
   ]
  },
  {
   "cell_type": "code",
   "execution_count": null,
   "metadata": {},
   "outputs": [],
   "source": []
  },
  {
   "cell_type": "code",
   "execution_count": null,
   "metadata": {},
   "outputs": [],
   "source": []
  }
 ],
 "metadata": {
  "kernelspec": {
   "display_name": "Python 3",
   "language": "python",
   "name": "python3"
  },
  "language_info": {
   "codemirror_mode": {
    "name": "ipython",
    "version": 3
   },
   "file_extension": ".py",
   "mimetype": "text/x-python",
   "name": "python",
   "nbconvert_exporter": "python",
   "pygments_lexer": "ipython3",
   "version": "3.8.5"
  }
 },
 "nbformat": 4,
 "nbformat_minor": 4
}
