{
 "cells": [
  {
   "cell_type": "code",
   "execution_count": 1,
   "metadata": {},
   "outputs": [
    {
     "name": "stdout",
     "output_type": "stream",
     "text": [
      "1\n"
     ]
    }
   ],
   "source": [
    "a = 1\n",
    "print(a)"
   ]
  },
  {
   "cell_type": "code",
   "execution_count": 2,
   "metadata": {},
   "outputs": [
    {
     "name": "stdout",
     "output_type": "stream",
     "text": [
      "<class 'int'>\n",
      "<class 'float'>\n",
      "<class 'str'>\n"
     ]
    }
   ],
   "source": [
    "a = 1\n",
    "print(type(a))\n",
    "b = 1.0\n",
    "print(type(b))\n",
    "c = \"bonjour\"\n",
    "print(type(c))"
   ]
  },
  {
   "cell_type": "code",
   "execution_count": 4,
   "metadata": {},
   "outputs": [
    {
     "name": "stdout",
     "output_type": "stream",
     "text": [
      "<class 'float'>\n",
      "4.140000000000001\n"
     ]
    }
   ],
   "source": [
    "# opération entre type différents\n",
    "\n",
    "a = 1\n",
    "b = 3.14\n",
    "c = a + b\n",
    "print(type(c))\n",
    "print(c)"
   ]
  },
  {
   "cell_type": "code",
   "execution_count": 5,
   "metadata": {},
   "outputs": [
    {
     "name": "stdout",
     "output_type": "stream",
     "text": [
      "4.5\n",
      "<class 'float'>\n",
      "4\n",
      "<class 'int'>\n"
     ]
    }
   ],
   "source": [
    "# opération entre types différents\n",
    "\n",
    "a = 9\n",
    "\n",
    "b = a/2\n",
    "print(b)\n",
    "print(type(b))\n",
    "\n",
    "b = a//2\n",
    "print(b)\n",
    "print(type(b))"
   ]
  },
  {
   "cell_type": "code",
   "execution_count": 6,
   "metadata": {},
   "outputs": [
    {
     "name": "stdout",
     "output_type": "stream",
     "text": [
      "124\n",
      "<class 'int'>\n"
     ]
    }
   ],
   "source": [
    "a = '123'\n",
    "b = int(a)\n",
    "print(b+1)\n",
    "print(type(b))"
   ]
  },
  {
   "cell_type": "code",
   "execution_count": 7,
   "metadata": {},
   "outputs": [
    {
     "name": "stdout",
     "output_type": "stream",
     "text": [
      "124.5\n",
      "<class 'float'>\n"
     ]
    }
   ],
   "source": [
    "a = \"123.5\"\n",
    "b = float(a)\n",
    "print(b+1)\n",
    "print(type(b))"
   ]
  },
  {
   "cell_type": "code",
   "execution_count": 8,
   "metadata": {},
   "outputs": [
    {
     "name": "stdout",
     "output_type": "stream",
     "text": [
      "123\n",
      "<class 'int'>\n"
     ]
    }
   ],
   "source": [
    "a = 123.5\n",
    "b = int(a)\n",
    "print(b)\n",
    "print(type(b))"
   ]
  },
  {
   "cell_type": "code",
   "execution_count": 9,
   "metadata": {},
   "outputs": [
    {
     "name": "stdout",
     "output_type": "stream",
     "text": [
      "<class 'str'>\n",
      "<class 'str'>\n",
      "7 3.14\n"
     ]
    }
   ],
   "source": [
    "a = 7\n",
    "b = 3.14\n",
    "\n",
    "c = str(a)\n",
    "d = str(b)\n",
    "print(type(c))\n",
    "print(type(d))\n",
    "print(c, d)"
   ]
  },
  {
   "cell_type": "code",
   "execution_count": 13,
   "metadata": {},
   "outputs": [
    {
     "name": "stdout",
     "output_type": "stream",
     "text": [
      "False\n",
      "True\n",
      "False\n",
      "True\n",
      "False\n"
     ]
    }
   ],
   "source": [
    "A = B = True\n",
    "C = D = False\n",
    "print((A or B) and (C or D))\n",
    "print(A or (B and C))\n",
    "print(A and B and (C or D))\n",
    "print((A and B) or (not C))\n",
    "print((not A) or D)"
   ]
  },
  {
   "cell_type": "code",
   "execution_count": 14,
   "metadata": {},
   "outputs": [
    {
     "name": "stdout",
     "output_type": "stream",
     "text": [
      "7\n",
      "-2\n",
      "7\n",
      "17\n",
      "8.988\n"
     ]
    }
   ],
   "source": [
    "print(abs(-3) + max(3, 4))\n",
    "print(min(4, 8, 0, -2))\n",
    "print(max(min(7, 8), min(4, 6)))\n",
    "print( round(8.324) + round(8.88))\n",
    "print(round(8.98795136, 3))"
   ]
  },
  {
   "cell_type": "code",
   "execution_count": 18,
   "metadata": {},
   "outputs": [
    {
     "name": "stdout",
     "output_type": "stream",
     "text": [
      "325\n",
      "-1.837959396219991\n",
      "4.171292729553325\n"
     ]
    }
   ],
   "source": [
    "a = 3\n",
    "b = -7\n",
    "c = -23\n",
    "delta = b**2 - (4*a*c)\n",
    "x1 = (-b - delta ** 0.5) / (2*a)\n",
    "x2 = (-b + delta ** 0.5) / (2*a)\n",
    "\n",
    "print(delta)\n",
    "print(x1)\n",
    "print(x2)"
   ]
  },
  {
   "cell_type": "code",
   "execution_count": 32,
   "metadata": {},
   "outputs": [
    {
     "name": "stdout",
     "output_type": "stream",
     "text": [
      "veuillez entrez un rayon :10\n",
      "Veuillez entrez une hauteur :4\n",
      "418.8790204786391\n"
     ]
    }
   ],
   "source": [
    "import math\n",
    "\n",
    "rayon = input(\"veuillez entrez un rayon :\")\n",
    "hauteur = input(\"Veuillez entrez une hauteur :\")\n",
    "\n",
    "def volume(rayon, hauteur):\n",
    "    res = (math.pi * (math.pow(float(rayon), 2)) * float(hauteur)) / 3\n",
    "    return res\n",
    "\n",
    "print(volume(rayon, hauteur))\n"
   ]
  }
 ],
 "metadata": {
  "kernelspec": {
   "display_name": "Python 3",
   "language": "python",
   "name": "python3"
  },
  "language_info": {
   "codemirror_mode": {
    "name": "ipython",
    "version": 3
   },
   "file_extension": ".py",
   "mimetype": "text/x-python",
   "name": "python",
   "nbconvert_exporter": "python",
   "pygments_lexer": "ipython3",
   "version": "3.8.5"
  }
 },
 "nbformat": 4,
 "nbformat_minor": 4
}
